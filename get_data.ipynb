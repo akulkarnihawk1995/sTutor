{
 "cells": [
  {
   "cell_type": "markdown",
   "metadata": {},
   "source": [
    "## Data Collection\n",
    "\n",
    "We created the skeleton and added the initial data manually. We created 4-5 dummy data for each index. But, it was not enough. SO, we went synthetic!\n",
    "\n",
    "__How we got the synthetic data?__\n",
    "\n",
    "We gathered the most asked questions online from a website (1). Then, using the questions as the topic, and explanations as the discussion materials, we filled the database. \n",
    "\n",
    "(1) https://career.guru99.com/top-50-operating-system-interview-questions/\n",
    "\n",
    "Of course, this is not how the actual use case will be in the future. Once we have enough users, then, their inputs will be enough for us to make analysis. "
   ]
  },
  {
   "cell_type": "code",
   "execution_count": 80,
   "metadata": {},
   "outputs": [],
   "source": [
    "import random\n",
    "import pandas as pd\n",
    "import pickle as pk"
   ]
  },
  {
   "cell_type": "code",
   "execution_count": 69,
   "metadata": {},
   "outputs": [],
   "source": [
    "questions = []\n",
    "answers = [\"\" for i in range(59)]\n",
    "i = 0"
   ]
  },
  {
   "cell_type": "code",
   "execution_count": 70,
   "metadata": {},
   "outputs": [],
   "source": [
    "with open(\"data.txt\", \"r\") as txt:\n",
    "    for line in txt:\n",
    "        line = line.rstrip('\\n')\n",
    "        if \")\" in line[:5] and len(line)>15:\n",
    "            \n",
    "            i+=1\n",
    "            questions.append(line[3:])\n",
    "        else:\n",
    "            answers[i]+=line"
   ]
  },
  {
   "cell_type": "code",
   "execution_count": 71,
   "metadata": {
    "scrolled": true
   },
   "outputs": [
    {
     "name": "stdout",
     "output_type": "stream",
     "text": [
      "Explain the main purpose of an operating system?\n",
      "Operating systems exist for two main purposes. One is that it is designed to make sure a computer system performs well by managing its computational activities. Another is that it provides an environment for the development and execution of programs.\n",
      "What is demand paging?\n",
      "Demand paging is referred when not all of a process’s pages are in the RAM, then the OS brings the missing(and required) pages from the disk into the RAM.\n",
      "What are the advantages of a multiprocessor system?\n",
      "With an increased number of processors, there is a considerable increase in throughput. It can also save more money because they can share resources. Finally, overall reliability is increased as well.\n",
      "What is kernel?\n",
      "A kernel is the core of every operating system. It connects applications to the actual processing of data. It also manages all communications between software and hardware components to ensure usability and reliability.\n",
      "What are real-time systems?\n",
      "Real-time systems are used when rigid time requirements have been placed on the operation of a processor. It has well defined and fixed time constraints.\n",
      "What is a virtual memory?\n",
      "Primis Player PlaceholderVirtual memory is a memory management technique for letting processes execute outside of memory. This is very useful especially is an executing program cannot fit in the physical memory.\n",
      "Describe the objective of multiprogramming.\n",
      "The main objective of multiprogramming is to have a process running at all times. With this design, CPU utilization is said to be maximized.\n",
      " What is time- sharing system?\n",
      "In a Time-sharing system, the CPU executes multiple jobs by switching among them, also known as multitasking. This process happens so fast that users can interact with each program while it is running.9) What is SMP?SMP is a short form of Symmetric Multi-Processing. It is the most common type of multiple-processor systems. In this system, each processor runs an identical copy of the operating system, and these copies communicate with one another as needed.\n",
      " How are server systems classified?\n",
      "Server systems can be classified as either computer-server systems or file server systems. In the first case, an interface is made available for clients to send requests to perform an action. In the second case, provisions are available for clients to create, access and update files.\n",
      " What is asymmetric clustering?\n",
      "In asymmetric clustering, a machine is in a state known as hot standby mode where it does nothing but to monitor the active server. That machine takes the active server’s role should the server fails.\n",
      " What is a thread?\n",
      "A thread is a basic unit of CPU utilization. In general, a thread is composed of a thread ID, program counter, register set, and the stack.\n",
      " Give some benefits of multithreaded programming.\n",
      "– there is increased responsiveness to the user– resource sharing within the process– economy– utilization of multiprocessing architecture\n",
      " Briefly explain FCFS.\n",
      "FCFS stands for First-come, first-served. It is one type of scheduling algorithm. In this scheme, the process that requests the CPU first is allocated the CPU first. Implementation is managed by a FIFO queue.\n",
      " What is RR scheduling algorithm?\n",
      "RR (round-robin) scheduling algorithm is primarily aimed for time-sharing systems. A circular queue is a setup in such a way that the CPU scheduler goes around that queue, allocating CPU to each process for a time interval of up to around 10 to 100 milliseconds.\n",
      " What are necessary conditions which can lead to a deadlock situation in a system?\n",
      "Deadlock situations occur when four conditions occur simultaneously in a system: Mutual exclusion; Hold and Wait; No preemption; and Circular wait.\n",
      " Enumerate the different RAID levels.\n",
      "RAID 0 – Non-redundant stripingRAID 1 – Mirrored DisksRAID 2 – Memory-style error-correcting codesRAID 3 – Bit-interleaved ParityRAID 4 – Block-interleaved ParityRAID 5 – Block-interleaved distributed ParityRAID 6 – P+Q Redundancy\n",
      " Describe Banker’s algorithm\n",
      "Bankers_AlgorithmBankers AlgorithmBanker’s algorithm is one form of deadlock-avoidance in a system. It gets its name from a banking system wherein the bank never allocates available cash in such a way that it can no longer satisfy the needs of all of its customers.\n",
      " What factors determine whether a detection-algorithm must be utilized in a deadlock avoidance system?\n",
      "One is that it depends on how often a deadlock is likely to occur under the implementation of this algorithm. The other has to do with how many processes will be affected by deadlock when this algorithm is applied.\n",
      " State the main difference between logical from physical address space.\n",
      "Logical address refers to the address that is generated by the CPU. On the other hand, physical address refers to the address that is seen by the memory unit.\n",
      " How does dynamic loading aid in better memory space utilization?\n",
      "With dynamic loading, a routine is not loaded until it is called. This method is especially useful when large amounts of code are needed in order to handle infrequently occurring cases such as error routines.\n",
      " What are overlays?\n",
      "Overlays are used to enable a process to be larger than the amount of memory allocated to it. The basic idea of this is that only instructions and data that are needed at any given time are kept in memory.\n",
      " What is the basic function of paging?\n",
      "Paging is a memory management scheme that permits the physical address space of a process to be noncontiguous. It avoids the considerable problem of having to fit varied sized memory chunks onto the backing store.\n",
      " What is fragmentation?\n",
      "Fragmentation is memory wasted. It can be internal if we are dealing with systems that have fixed-sized allocation units, or external if we are dealing with systems that have variable-sized allocation units.\n",
      " How does swapping result in better memory management?\n",
      "During regular intervals that are set by the operating system, processes can be copied from main memory to a backing store, and then copied back later. Swapping allows more operations to be run that can fit into memory at one time.\n",
      " Give an example of a Process State.\n",
      "– New State – means a process is being created– Running – means instructions are being executed– Waiting – means a process is waiting for certain conditions or events to occur– Ready – means a process is waiting for an instruction from the main processor– Terminate – means a process is stopped abruptly\n",
      " What is a socket?\n",
      "A socket provides a connection between two applications. Each endpoint of a communication is a socket.\n",
      " What is Direct Access Method?\n",
      "Direct Access method is based on a disk model of a file, such that it is viewed as a numbered sequence of blocks or records. It allows arbitrary blocks to be read or written. Direct access is advantageous when accessing large amounts of information.\n",
      " When does thrashing occur?\n",
      "Thrashing refers to an instance of high paging activity. This happens when it is spending more time paging instead of executing.\n",
      " What is the best page size when designing an operating system?\n",
      "The best paging size varies from system to system, so there is no single best when it comes to page size. There are different factors to consider in order to come up with a suitable page size, such as page table, paging time, and its effect on the overall efficiency of the operating system.\n",
      " When designing the file structure for an operating system, what attributes are considered?\n",
      "Typically, the different attributes for a file structure are naming, identifier, supported file types, and location for the files, size, and level of protection.\n",
      " What is root partition?\n",
      "Root partition is where the operating system kernel is located. It also contains other potentially important system files that are mounted during boot time.\n",
      " What are device drivers?\n",
      "Device drivers provide a standard means of representing I/O devices that maybe manufactured by different companies. This prevents conflicts whenever such devices are incorporated in a systems unit.\n",
      " What are the primary functions of VFS?\n",
      "VFS, or Virtual File System, separate file system generic operations from their implementation by defining a clean VFS interface. It is based on a file-representation structure known as vnode, which contains a numerical designator needed to support network file systems.\n",
      " What are the different types of CPU registers in a typical operating system design?\n",
      "– Accumulators– Index Registers– Stack Pointer– General Purpose Registers\n",
      " What is the purpose of an I/O status information?\n",
      "I/O status information provides information about which I/O devices are to be allocated for a particular process. It also shows which files are opened, and other I/O device state.\n",
      " What is multitasking?\n",
      "Multitasking is the process within an operating system that allows the user to run several applications at the same time. However, only one application is active at a time for user interaction, although some applications can run “behind the scene”.\n",
      " Explain pros and cons of a command line interface?\n",
      "A command line interface allows the user to type in commands that can immediately provide results. Many seasoned computer users are well accustomed to using the command line because they find it quicker and simpler.However, the main problem with a command line interface is that users have to be familiar with the commands, including the switches and parameters that come with it. This is a downside for people who are not fond of memorizing commands.\n",
      " What is caching?\n",
      "Caching is the processing of utilizing a region of fast memory for a limited data and process. A cache memory is usually much efficient because of its high access speed.\n",
      " What is spooling?\n",
      "Spooling is normally associated with printing. When different applications want to send an output to the printer at the same time, spooling takes all of these print jobs into a disk file and queues them accordingly to the printer.\n",
      " What is an Assembler?\n",
      "An assembler acts as a translator for low-level language. Assembly codes written using mnemonic commands are translated by the Assembler into machine language.\n",
      " What are interrupts?\n",
      "Interrupts are part of a hardware mechanism that sends a notification to the CPU when it wants to gain access to a particular resource. An interrupt handler receives this interrupt signal and “tells” the processor to take action based on the interrupt request.\n",
      " What is GUI?\n",
      "GUI is short for Graphical User Interface. It provides users with an interface wherein actions can be performed by interacting with icons and graphical symbols. People find it easier to interact with the computer when in a GUI especially when using the mouse. Instead of having to remember and type commands, users click on buttons to perform a process.\n",
      " What is preemptive multitasking?\n",
      "Preemptive multitasking allows an operating system to switch between software programs. This, in turn, allows multiple programs to run without necessarily taking complete control over the processor and resulting in system crashes.\n",
      " Why partitioning and formatting is a prerequisite to installing an operating system?\n",
      "Partitioning and formatting create a preparatory environment on the drive so that the operating system can be copied and installed properly. This includes allocating space on the drive, designating a drive name, determining and creating the appropriate file system and structure.\n",
      " What is plumbing/piping?\n",
      "It is the process of using the output of one program as an input to another. For example, instead of sending the listing of a folder or drive to the main screen, it can be piped and sent to a file, or sent to the printer to produce a hard copy.\n",
      " What is NOS?\n",
      "NOS is short for Network Operating System. It is a specialized software that will allow a computer to communicate with other devices over the network, including file/folder sharing.\n",
      " Differentiate internal commands from external commands.\n",
      "Internal commands are built-in commands that are already part of the operating system. External commands are separate file programs that are stored in a separate folder or directory.\n",
      " Under DOS, what command will you type when you want to list down the files in a directory, and at the same time pause after every screen output?\n",
      "a) dir /wb) dir /pc) dir /sd) dir /w /pAnswer: d) dir /w /p\n",
      " How would a file name EXAMPLEFILE.TXT appear when viewed under the DOS command console operating in Windows 98?\n",
      "The filename would appear as EXAMPL~1.TXT . The reason behind this is that filenames under this operating system are limited to 8 characters when working under DOS environment.\n",
      " What is a folder in Ubuntu?\n",
      "There is no concept of Folder in Ubuntu. Everything included in your hardware is a FILE.\n",
      " Explain why Ubuntu is safe and not affected by viruses?\n",
      "It does not support malicious e-mails and contents, and before any e-mail is opened by users it will go through many security checksUbuntu uses Linux, which is a super secure O.S systemUnlike other O.S, countless Linux users can see the code at any time and can fix the problem if there is anyMalware and viruses are coded to take advantage of the weakness in Windows\n",
      " Explain what is Unity in Ubuntu? How can you add new entries to the launcher?\n",
      "In Ubuntu, Unity is the default graphical shell.  On the left side of the Ubuntu, it introduces the launcher and Dash to start programs.In order to add new entries to the launcher, you can create a file name like .desktop and then drag the file on the launcher.\n",
      " Explain the purpose of using a libaio package in Ubuntu?\n",
      "Libaio is Linux Kernel Asynchronous I/O (A/O).  A/O allows even a single application thread to overlap I/O operations with other processing, by providing an interface for submitting one or more I/O requests in one system call without waiting for completion.  And a separate interface to reap completed I/O operations associated with a given completion group.\n",
      " What is the use of behavior tab in Ubuntu?\n",
      "Through behaviors tab, you can make many changes on the appearance of the desktopAuto-hide the launcher: You can use this option to reveal the launcher when moving the pointer to the defined hot spot.Enable workspaces:  By checking this option, you can enable workspaceAdd show desktop icon to the launcher: This option is used to display the desktop icon on the launcher\n",
      " What is the meaning of “export” command in Ubuntu?\n",
      "Export is a command in Bash shell language. When you try to set a variable, it is visible or exported to any subprocess started from that instance of bash.  The variable will not exist in the sub-process without the export command.\n",
      " Explain how you can reset Unity Configuration?\n",
      "To reset the unity configuration the simplest way to do is to hit open a Terminal or hit Atl-F2  and run the command # unity –reset\n",
      " Explain how to access Terminal?\n",
      "To access terminal, you have to go under Application Menu -> Accessories -> Terminal.\n"
     ]
    }
   ],
   "source": [
    "for i in range(len(questions)):\n",
    "    print(questions[i])\n",
    "    print(answers[i+1])"
   ]
  },
  {
   "cell_type": "code",
   "execution_count": 72,
   "metadata": {},
   "outputs": [],
   "source": [
    "users = [\"5e48cc0853f46b6320f11c8a\", \"5e48d61545cc5c31f5a7cab0\", \"5e48af2d53f46b6320f11c89\"]"
   ]
  },
  {
   "cell_type": "code",
   "execution_count": 73,
   "metadata": {},
   "outputs": [
    {
     "data": {
      "text/plain": [
       "'5e48d61545cc5c31f5a7cab0'"
      ]
     },
     "execution_count": 73,
     "metadata": {},
     "output_type": "execute_result"
    }
   ],
   "source": [
    "random.choice(users)"
   ]
  },
  {
   "cell_type": "code",
   "execution_count": 74,
   "metadata": {},
   "outputs": [],
   "source": [
    "dicts = []"
   ]
  },
  {
   "cell_type": "code",
   "execution_count": 75,
   "metadata": {},
   "outputs": [],
   "source": [
    "for idx, q in enumerate(questions):\n",
    "    dic = {}\n",
    "    dic[\"topic_name\"] = q\n",
    "    dic[\"subject\"] = \"5e486a7e6785de16609c6120\"\n",
    "    dic[\"discussion_material\"] = answers[idx+1]\n",
    "    dic[\"author\"] = random.choice(users)\n",
    "    \n",
    "    dicts.append(dic)"
   ]
  },
  {
   "cell_type": "code",
   "execution_count": 77,
   "metadata": {
    "scrolled": true
   },
   "outputs": [
    {
     "data": {
      "text/plain": [
       "[{'author': '5e48cc0853f46b6320f11c8a',\n",
       "  'discussion_material': 'To reset the unity configuration the simplest way to do is to hit open a Terminal or hit Atl-F2  and run the command # unity –reset',\n",
       "  'subject': '5e486a7e6785de16609c6120',\n",
       "  'topic_name': ' Explain how you can reset Unity Configuration?'},\n",
       " {'author': '5e48cc0853f46b6320f11c8a',\n",
       "  'discussion_material': 'To access terminal, you have to go under Application Menu -> Accessories -> Terminal.',\n",
       "  'subject': '5e486a7e6785de16609c6120',\n",
       "  'topic_name': ' Explain how to access Terminal?'}]"
      ]
     },
     "execution_count": 77,
     "metadata": {},
     "output_type": "execute_result"
    }
   ],
   "source": [
    "dicts[-2:]"
   ]
  },
  {
   "cell_type": "code",
   "execution_count": 82,
   "metadata": {},
   "outputs": [],
   "source": [
    "with open('topics.pk', 'wb') as handle:\n",
    "    pk.dump(dicts, handle, protocol=pk.HIGHEST_PROTOCOL)"
   ]
  },
  {
   "cell_type": "code",
   "execution_count": null,
   "metadata": {},
   "outputs": [],
   "source": [
    "from pymongo import MongoClient\n",
    "from random import randint\n",
    "#Step 1: Connect to MongoDB - Note: Change connection string as needed\n",
    "client = MongoClient(port=27017)\n",
    "db=client.business\n",
    "#Step 2: Create sample data\n",
    "names = ['Kitchen','Animal','State', 'Tastey', 'Big','City','Fish', 'Pizza','Goat', 'Salty','Sandwich','Lazy', 'Fun']\n",
    "company_type = ['LLC','Inc','Company','Corporation']\n",
    "company_cuisine = ['Pizza', 'Bar Food', 'Fast Food', 'Italian', 'Mexican', 'American', 'Sushi Bar', 'Vegetarian']\n",
    "for x in range(1, 501):\n",
    "    business = {\n",
    "        'name' : names[randint(0, (len(names)-1))] + ' ' + names[randint(0, (len(names)-1))]  + ' ' + company_type[randint(0, (len(company_type)-1))],\n",
    "        'rating' : randint(1, 5),\n",
    "        'cuisine' : company_cuisine[randint(0, (len(company_cuisine)-1))] \n",
    "    }\n",
    "    #Step 3: Insert business object directly into MongoDB via isnert_one\n",
    "    result=db.reviews.insert_one(business)\n",
    "    #Step 4: Print to the console the ObjectID of the new document\n",
    "    print('Created {0} of 500 as {1}'.format(x,result.inserted_id))\n",
    "#Step 5: Tell us that you are done\n",
    "print('finished creating 500 business reviews')"
   ]
  },
  {
   "cell_type": "code",
   "execution_count": null,
   "metadata": {},
   "outputs": [],
   "source": []
  }
 ],
 "metadata": {
  "kernelspec": {
   "display_name": "Python 3",
   "language": "python",
   "name": "python3"
  },
  "language_info": {
   "codemirror_mode": {
    "name": "ipython",
    "version": 3
   },
   "file_extension": ".py",
   "mimetype": "text/x-python",
   "name": "python",
   "nbconvert_exporter": "python",
   "pygments_lexer": "ipython3",
   "version": "3.7.4"
  }
 },
 "nbformat": 4,
 "nbformat_minor": 2
}
